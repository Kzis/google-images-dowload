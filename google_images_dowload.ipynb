{
  "nbformat": 4,
  "nbformat_minor": 0,
  "metadata": {
    "colab": {
      "name": "google-images-dowload.ipynb",
      "version": "0.3.2",
      "provenance": [],
      "include_colab_link": true
    },
    "kernelspec": {
      "name": "python3",
      "display_name": "Python 3"
    }
  },
  "cells": [
    {
      "cell_type": "markdown",
      "metadata": {
        "id": "view-in-github",
        "colab_type": "text"
      },
      "source": [
        "<a href=\"https://colab.research.google.com/github/Kzis/google-images-dowload/blob/master/google_images_dowload.ipynb\" target=\"_parent\"><img src=\"https://colab.research.google.com/assets/colab-badge.svg\" alt=\"Open In Colab\"/></a>"
      ]
    },
    {
      "metadata": {
        "id": "xSJGdvyvfn7N",
        "colab_type": "code",
        "colab": {
          "base_uri": "https://localhost:8080/",
          "height": 68
        },
        "outputId": "31de1b70-ab27-4602-b698-c2c8696c806a"
      },
      "cell_type": "code",
      "source": [
        "pip install google_images_download"
      ],
      "execution_count": 1,
      "outputs": [
        {
          "output_type": "stream",
          "text": [
            "Requirement already satisfied: google_images_download in /usr/local/lib/python3.6/dist-packages (2.5.0)\n",
            "Requirement already satisfied: selenium in /usr/local/lib/python3.6/dist-packages (from google_images_download) (3.141.0)\n",
            "Requirement already satisfied: urllib3 in /usr/local/lib/python3.6/dist-packages (from selenium->google_images_download) (1.22)\n"
          ],
          "name": "stdout"
        }
      ]
    },
    {
      "metadata": {
        "id": "0B5B-7w5fulK",
        "colab_type": "code",
        "colab": {
          "base_uri": "https://localhost:8080/",
          "height": 853
        },
        "outputId": "a0296032-e43c-47a2-9eb2-a1049733b712"
      },
      "cell_type": "code",
      "source": [
        "from google_images_download import google_images_download   #importing the library\n",
        "\n",
        "response = google_images_download.googleimagesdownload()   #class instantiation\n",
        "\n",
        "arguments = {\"keywords\":\"Banana\",\"limit\":20,\"print_urls\":True}   #creating list of arguments\n",
        "paths = response.download(arguments)   #passing the arguments to the function\n",
        "print(paths)   #printing absolute paths of the downloaded images"
      ],
      "execution_count": 2,
      "outputs": [
        {
          "output_type": "stream",
          "text": [
            "\n",
            "Item no.: 1 --> Item name = Banana\n",
            "Evaluating...\n",
            "Starting Download...\n",
            "Image URL: https://images-na.ssl-images-amazon.com/images/I/71gI-IUNUkL._SY355_.jpg\n",
            "Completed Image ====> 1. 71gi-iunukl._sy355_.jpg\n",
            "Image URL: https://lp.medicalnewstoday.com/content/images/headlines/271/271157/bananas.jpg\n",
            "Completed Image ====> 2. bananas.jpg\n",
            "Image URL: https://target.scene7.com/is/image/Target/GUEST_f5d0cfc3-9d02-4ee0-a6c6-ed5dc09971d1?wid=488&hei=488&fmt=pjpeg\n",
            "Completed Image ====> 3. guest_f5d0cfc3-9d02-4ee0-a6c6-ed5dc09971d1?wid=488&hei=488&fmt=pjpeg.jpg\n",
            "Image URL: https://img.purch.com/rc/300x200/aHR0cDovL3d3dy5saXZlc2NpZW5jZS5jb20vaW1hZ2VzL2kvMDAwLzA2NS8xNDkvb3JpZ2luYWwvYmFuYW5hcy5qcGc=\n",
            "Completed Image ====> 4. ahr0cdovl3d3dy5saxzlc2npzw5jzs5jb20vaw1hz2vzl2kvmdawlza2ns8xndkvb3jpz2luywwvymfuyw5hcy5qcgc=.jpg\n",
            "Image URL: https://article.images.consumerreports.org/prod/content/dam/CRO%20Images%202018/Health/April/CR-Health-Inlinehero-bananas-good-for-you-0418\n",
            "Completed Image ====> 5. cr-health-inlinehero-bananas-good-for-you-0418.jpg\n",
            "Image URL: https://upload.wikimedia.org/wikipedia/commons/8/8a/Banana-Single.jpg\n",
            "Completed Image ====> 6. banana-single.jpg\n",
            "Image URL: https://media.npr.org/assets/img/2018/09/23/gettyimages-86304874_wide-050425b9a45d2e824f38425174d73cfa8f7390ba-s800-c85.jpg\n",
            "Completed Image ====> 7. gettyimages-86304874_wide-050425b9a45d2e824f38425174d73cfa8f7390ba-s800-c85.jpg\n",
            "Image URL: https://thumbs-prod.si-cdn.com/_oO5E4sOE9Ep-qk_kuJ945_-qo4=/800x600/filters:no_upscale()/https://public-media.si-cdn.com/filer/d5/24/d5243019-e0fc-4b3c-8cdb-48e22f38bff2/istock-183380744.jpg\n",
            "Completed Image ====> 8. istock-183380744.jpg\n",
            "Image URL: https://images.unsplash.com/photo-1528825871115-3581a5387919?ixlib=rb-1.2.1&ixid=eyJhcHBfaWQiOjEyMDd9&w=1000&q=80\n",
            "Completed Image ====> 9. photo-1528825871115-3581a5387919?ixlib=rb-1.2.1&ixid=eyjhchbfawqiojeymdd9&w=1000&q=80.jpg\n",
            "Image URL: https://cdn.shopify.com/s/files/1/1078/0310/products/fruit-banana-dole-1_1024x1024.jpg?v=1500709708\n",
            "Completed Image ====> 10. fruit-banana-dole-1_1024x1024.jpg\n",
            "Image URL: https://silversneakers-wp-prod.azureedge.net/wp-content/uploads/2018/04/SSBlog_MoreKThanBanana_1400x1050-1024x768.jpg\n",
            "Completed Image ====> 11. ssblog_morekthanbanana_1400x1050-1024x768.jpg\n",
            "Image URL: https://tul.imgix.net/content/article/banana.jpg?auto=format,compress&w=740&h=486&fit=crop\n",
            "Completed Image ====> 12. banana.jpg\n",
            "Image URL: https://cdn1.sph.harvard.edu/wp-content/uploads/sites/30/2018/08/bananas-1354785_1920-1200x800.jpg\n",
            "Completed Image ====> 13. bananas-1354785_1920-1200x800.jpg\n",
            "Image URL: https://images-na.ssl-images-amazon.com/images/I/41QwNL18FTL._SL1000_.jpg\n",
            "Completed Image ====> 14. 41qwnl18ftl._sl1000_.jpg\n",
            "Image URL: https://nutriliving-images.imgix.net/images/2014/335/12907/C07BEDA0-8F79-E411-A121-0287E8A1303A.jpg?ch=DPR&w=488&h=488&auto=compress,format&dpr=1\n",
            "Completed Image ====> 15. c07beda0-8f79-e411-a121-0287e8a1303a.jpg\n",
            "Image URL: https://s3.amazonaws.com/finecooking.s3.tauntonclud.com/app/uploads/2018/04/02125758/BananaInfographic_NoIntro.jpg\n",
            "Completed Image ====> 16. bananainfographic_nointro.jpg\n",
            "Image URL: https://i5.walmartimages.com/asr/209bb8a0-30ab-46be-b38d-58c2feb93e4a_1.1a15fb5bcbecbadd4a45822a11bf6257.jpeg?odnHeight=450&odnWidth=450&odnBg=FFFFFF\n",
            "Completed Image ====> 17. 209bb8a0-30ab-46be-b38d-58c2feb93e4a_1.1a15fb5bcbecbadd4a45822a11bf6257.jpeg\n",
            "Image URL: https://www.healthline.com/hlcmsresource/images/AN_images/banana-pink-background-thumb.jpg\n",
            "Completed Image ====> 18. banana-pink-background-thumb.jpg\n",
            "Image URL: https://cdn.newsapi.com.au/image/v1/02f417a045330ade23901c8ac0ac357f\n",
            "Completed Image ====> 19. 02f417a045330ade23901c8ac0ac357f.jpg\n",
            "Image URL: https://www.healthline.com/hlcmsresource/images/imce/bananas-essential-nutrients_thumb.jpg\n",
            "Completed Image ====> 20. bananas-essential-nutrients_thumb.jpg\n",
            "\n",
            "Errors: 0\n",
            "\n",
            "{'Banana': ['/content/downloads/Banana/1. 71gi-iunukl._sy355_.jpg', '/content/downloads/Banana/2. bananas.jpg', '/content/downloads/Banana/3. guest_f5d0cfc3-9d02-4ee0-a6c6-ed5dc09971d1?wid=488&hei=488&fmt=pjpeg.jpg', '/content/downloads/Banana/4. ahr0cdovl3d3dy5saxzlc2npzw5jzs5jb20vaw1hz2vzl2kvmdawlza2ns8xndkvb3jpz2luywwvymfuyw5hcy5qcgc=.jpg', '/content/downloads/Banana/5. cr-health-inlinehero-bananas-good-for-you-0418.jpg', '/content/downloads/Banana/6. banana-single.jpg', '/content/downloads/Banana/7. gettyimages-86304874_wide-050425b9a45d2e824f38425174d73cfa8f7390ba-s800-c85.jpg', '/content/downloads/Banana/8. istock-183380744.jpg', '/content/downloads/Banana/9. photo-1528825871115-3581a5387919?ixlib=rb-1.2.1&ixid=eyjhchbfawqiojeymdd9&w=1000&q=80.jpg', '/content/downloads/Banana/10. fruit-banana-dole-1_1024x1024.jpg', '/content/downloads/Banana/11. ssblog_morekthanbanana_1400x1050-1024x768.jpg', '/content/downloads/Banana/12. banana.jpg', '/content/downloads/Banana/13. bananas-1354785_1920-1200x800.jpg', '/content/downloads/Banana/14. 41qwnl18ftl._sl1000_.jpg', '/content/downloads/Banana/15. c07beda0-8f79-e411-a121-0287e8a1303a.jpg', '/content/downloads/Banana/16. bananainfographic_nointro.jpg', '/content/downloads/Banana/17. 209bb8a0-30ab-46be-b38d-58c2feb93e4a_1.1a15fb5bcbecbadd4a45822a11bf6257.jpeg', '/content/downloads/Banana/18. banana-pink-background-thumb.jpg', '/content/downloads/Banana/19. 02f417a045330ade23901c8ac0ac357f.jpg', '/content/downloads/Banana/20. bananas-essential-nutrients_thumb.jpg']}\n"
          ],
          "name": "stdout"
        }
      ]
    }
  ]
}